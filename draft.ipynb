{
 "cells": [
  {
   "cell_type": "code",
   "execution_count": 4,
   "id": "9bc6a85c",
   "metadata": {},
   "outputs": [],
   "source": [
    "import numpy as np\n",
    "import pandas as pd\n",
    "# import matplotlib.pyplot as plt"
   ]
  },
  {
   "cell_type": "code",
   "execution_count": 5,
   "id": "ef49f5fd",
   "metadata": {},
   "outputs": [
    {
     "ename": "ImportError",
     "evalue": "cannot import name 'Client' from 'binance' (C:\\Users\\sogcnz\\.conda\\envs\\Crypto\\lib\\site-packages\\binance.py)",
     "output_type": "error",
     "traceback": [
      "\u001b[1;31m---------------------------------------------------------------------------\u001b[0m",
      "\u001b[1;31mImportError\u001b[0m                               Traceback (most recent call last)",
      "Input \u001b[1;32mIn [5]\u001b[0m, in \u001b[0;36m<cell line: 4>\u001b[1;34m()\u001b[0m\n\u001b[0;32m      1\u001b[0m apikey\u001b[38;5;241m=\u001b[39m\u001b[38;5;124m'\u001b[39m\u001b[38;5;124mK6SblvHXuqJBcnr41BJODPYMfCXb1HbFk5U6X8Zdelz5dsz5usapUtH2d5q5M5qL\u001b[39m\u001b[38;5;124m'\u001b[39m\n\u001b[0;32m      2\u001b[0m secret\u001b[38;5;241m=\u001b[39m\u001b[38;5;124m'\u001b[39m\u001b[38;5;124mPP60eXOpaJKU0IDOtAQImcTd9IBuIt28xeAMxTifYiHqacI5d5Gw1rQdY1Jw20Zo\u001b[39m\u001b[38;5;124m'\u001b[39m\n\u001b[1;32m----> 4\u001b[0m \u001b[38;5;28;01mfrom\u001b[39;00m \u001b[38;5;21;01mbinance\u001b[39;00m \u001b[38;5;28;01mimport\u001b[39;00m Client, ThreadedWebsocketManager, ThreadedDepthCacheManager\n\u001b[0;32m      5\u001b[0m client\u001b[38;5;241m=\u001b[39mClient(apikey, secret)\n\u001b[0;32m      6\u001b[0m X \u001b[38;5;241m=\u001b[39m client\u001b[38;5;241m.\u001b[39mget_all_tickers()\n",
      "\u001b[1;31mImportError\u001b[0m: cannot import name 'Client' from 'binance' (C:\\Users\\sogcnz\\.conda\\envs\\Crypto\\lib\\site-packages\\binance.py)"
     ]
    }
   ],
   "source": [
    "apikey='K6SblvHXuqJBcnr41BJODPYMfCXb1HbFk5U6X8Zdelz5dsz5usapUtH2d5q5M5qL'\n",
    "secret='PP60eXOpaJKU0IDOtAQImcTd9IBuIt28xeAMxTifYiHqacI5d5Gw1rQdY1Jw20Zo'\n",
    "\n",
    "from binance import Client, ThreadedWebsocketManager, ThreadedDepthCacheManager\n",
    "client=Client(apikey, secret)\n",
    "X = client.get_all_tickers()"
   ]
  },
  {
   "cell_type": "code",
   "execution_count": null,
   "id": "8ad13cab",
   "metadata": {},
   "outputs": [],
   "source": [
    "print(X)"
   ]
  }
 ],
 "metadata": {
  "kernelspec": {
   "display_name": "Python 3 (ipykernel)",
   "language": "python",
   "name": "python3"
  },
  "language_info": {
   "codemirror_mode": {
    "name": "ipython",
    "version": 3
   },
   "file_extension": ".py",
   "mimetype": "text/x-python",
   "name": "python",
   "nbconvert_exporter": "python",
   "pygments_lexer": "ipython3",
   "version": "3.10.4"
  }
 },
 "nbformat": 4,
 "nbformat_minor": 5
}
